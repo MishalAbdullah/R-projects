{
  "nbformat": 4,
  "nbformat_minor": 0,
  "metadata": {
    "colab": {
      "name": "Malaysia vacination.ipynb",
      "provenance": [],
      "collapsed_sections": []
    },
    "kernelspec": {
      "name": "ir",
      "display_name": "R"
    },
    "language_info": {
      "name": "R"
    }
  },
  "cells": [
    {
      "cell_type": "markdown",
      "metadata": {
        "id": "ZniwAB-4_FH1"
      },
      "source": [
        "Author:Mish-al Abdullah\n",
        "date:jun 28 2021"
      ]
    },
    {
      "cell_type": "markdown",
      "metadata": {
        "id": "qpWruOjb-arO"
      },
      "source": [
        "The aim is to find the malaysian vaccination progress.In the given data set we have the information of he population of all the states in malaysia and the vaccination."
      ]
    },
    {
      "cell_type": "markdown",
      "metadata": {
        "id": "nWAjxtZX-Sre"
      },
      "source": [
        "First we need to install and load all our packages needed for the analysis."
      ]
    },
    {
      "cell_type": "code",
      "metadata": {
        "colab": {
          "base_uri": "https://localhost:8080/"
        },
        "id": "Monkc68d3YJt",
        "outputId": "695d39d4-e883-4f29-ccfa-aec8b920feb7"
      },
      "source": [
        "library(\"tidyverse\")\n",
        "install.packages(\"janitor\")\n",
        "install.packages(\"here\")\n",
        "install.packages(\"skimr\")\n",
        "library(\"janitor\")\n",
        "library(\"skimr\")\n",
        "library(\"here\")\n",
        "library(\"ggplot2\")"
      ],
      "execution_count": null,
      "outputs": [
        {
          "output_type": "stream",
          "text": [
            "Installing package into ‘/usr/local/lib/R/site-library’\n",
            "(as ‘lib’ is unspecified)\n",
            "\n",
            "Installing package into ‘/usr/local/lib/R/site-library’\n",
            "(as ‘lib’ is unspecified)\n",
            "\n",
            "Installing package into ‘/usr/local/lib/R/site-library’\n",
            "(as ‘lib’ is unspecified)\n",
            "\n",
            "here() starts at /content\n",
            "\n"
          ],
          "name": "stderr"
        }
      ]
    },
    {
      "cell_type": "code",
      "metadata": {
        "colab": {
          "base_uri": "https://localhost:8080/",
          "height": 272
        },
        "id": "0l_ZJJDA7Eji",
        "outputId": "be9db959-b993-4112-ecc1-2ed6000c74b7"
      },
      "source": [
        "version"
      ],
      "execution_count": null,
      "outputs": [
        {
          "output_type": "display_data",
          "data": {
            "text/plain": [
              "               _                           \n",
              "platform       x86_64-pc-linux-gnu         \n",
              "arch           x86_64                      \n",
              "os             linux-gnu                   \n",
              "system         x86_64, linux-gnu           \n",
              "status                                     \n",
              "major          4                           \n",
              "minor          1.0                         \n",
              "year           2021                        \n",
              "month          05                          \n",
              "day            18                          \n",
              "svn rev        80317                       \n",
              "language       R                           \n",
              "version.string R version 4.1.0 (2021-05-18)\n",
              "nickname       Camp Pontanezen             "
            ]
          },
          "metadata": {
            "tags": []
          }
        }
      ]
    },
    {
      "cell_type": "markdown",
      "metadata": {
        "id": "MpO3KvXp_IXD"
      },
      "source": [
        "Now we load the malaysia population data"
      ]
    },
    {
      "cell_type": "code",
      "metadata": {
        "colab": {
          "base_uri": "https://localhost:8080/",
          "height": 593
        },
        "id": "2SXpSq-n7Z9m",
        "outputId": "3fdfacec-eed3-418a-b241-df4076662963"
      },
      "source": [
        "read.csv(\"malaysiapopulation.csv\")"
      ],
      "execution_count": null,
      "outputs": [
        {
          "output_type": "display_data",
          "data": {
            "text/plain": [
              "   state      population\n",
              "1  perlis      187756   \n",
              "2  kedah      1595396   \n",
              "3  penang     1385097   \n",
              "4  perak      1932525   \n",
              "5  selangor   4838547   \n",
              "6  kl         1481138   \n",
              "7  putrajaya    56913   \n",
              "8  ns          850890   \n",
              "9  melaka      701711   \n",
              "10 kelantan   1237273   \n",
              "11 terengganu  841837   \n",
              "12 pahang     1235357   \n",
              "13 johor      2839652   \n",
              "14 sabah      2921000   \n",
              "15 labuan       72272   \n",
              "16 sarawak    2072490   "
            ],
            "text/latex": "A data.frame: 16 × 2\n\\begin{tabular}{ll}\n state & population\\\\\n <chr> & <int>\\\\\n\\hline\n\t perlis     &  187756\\\\\n\t kedah      & 1595396\\\\\n\t penang     & 1385097\\\\\n\t perak      & 1932525\\\\\n\t selangor   & 4838547\\\\\n\t kl         & 1481138\\\\\n\t putrajaya  &   56913\\\\\n\t ns         &  850890\\\\\n\t melaka     &  701711\\\\\n\t kelantan   & 1237273\\\\\n\t terengganu &  841837\\\\\n\t pahang     & 1235357\\\\\n\t johor      & 2839652\\\\\n\t sabah      & 2921000\\\\\n\t labuan     &   72272\\\\\n\t sarawak    & 2072490\\\\\n\\end{tabular}\n",
            "text/markdown": "\nA data.frame: 16 × 2\n\n| state &lt;chr&gt; | population &lt;int&gt; |\n|---|---|\n| perlis     |  187756 |\n| kedah      | 1595396 |\n| penang     | 1385097 |\n| perak      | 1932525 |\n| selangor   | 4838547 |\n| kl         | 1481138 |\n| putrajaya  |   56913 |\n| ns         |  850890 |\n| melaka     |  701711 |\n| kelantan   | 1237273 |\n| terengganu |  841837 |\n| pahang     | 1235357 |\n| johor      | 2839652 |\n| sabah      | 2921000 |\n| labuan     |   72272 |\n| sarawak    | 2072490 |\n\n",
            "text/html": [
              "<table class=\"dataframe\">\n",
              "<caption>A data.frame: 16 × 2</caption>\n",
              "<thead>\n",
              "\t<tr><th scope=col>state</th><th scope=col>population</th></tr>\n",
              "\t<tr><th scope=col>&lt;chr&gt;</th><th scope=col>&lt;int&gt;</th></tr>\n",
              "</thead>\n",
              "<tbody>\n",
              "\t<tr><td>perlis    </td><td> 187756</td></tr>\n",
              "\t<tr><td>kedah     </td><td>1595396</td></tr>\n",
              "\t<tr><td>penang    </td><td>1385097</td></tr>\n",
              "\t<tr><td>perak     </td><td>1932525</td></tr>\n",
              "\t<tr><td>selangor  </td><td>4838547</td></tr>\n",
              "\t<tr><td>kl        </td><td>1481138</td></tr>\n",
              "\t<tr><td>putrajaya </td><td>  56913</td></tr>\n",
              "\t<tr><td>ns        </td><td> 850890</td></tr>\n",
              "\t<tr><td>melaka    </td><td> 701711</td></tr>\n",
              "\t<tr><td>kelantan  </td><td>1237273</td></tr>\n",
              "\t<tr><td>terengganu</td><td> 841837</td></tr>\n",
              "\t<tr><td>pahang    </td><td>1235357</td></tr>\n",
              "\t<tr><td>johor     </td><td>2839652</td></tr>\n",
              "\t<tr><td>sabah     </td><td>2921000</td></tr>\n",
              "\t<tr><td>labuan    </td><td>  72272</td></tr>\n",
              "\t<tr><td>sarawak   </td><td>2072490</td></tr>\n",
              "</tbody>\n",
              "</table>\n"
            ]
          },
          "metadata": {
            "tags": []
          }
        }
      ]
    },
    {
      "cell_type": "code",
      "metadata": {
        "colab": {
          "base_uri": "https://localhost:8080/"
        },
        "id": "4JMN9ogYIpp6",
        "outputId": "c7e76fe5-9a5b-4a00-b29e-ce016b85cb9d"
      },
      "source": [
        "install.packages(\"dplyr\")\n",
        "library(\"dplyr\")\n"
      ],
      "execution_count": null,
      "outputs": [
        {
          "output_type": "stream",
          "text": [
            "Installing package into ‘/usr/local/lib/R/site-library’\n",
            "(as ‘lib’ is unspecified)\n",
            "\n"
          ],
          "name": "stderr"
        }
      ]
    },
    {
      "cell_type": "code",
      "metadata": {
        "colab": {
          "base_uri": "https://localhost:8080/",
          "height": 34
        },
        "id": "Of8YwzIqOUFq",
        "outputId": "77d58816-73ec-4c9d-cfce-1f29093decc6"
      },
      "source": [
        "head(\"malaysiapopulation.csv\")"
      ],
      "execution_count": null,
      "outputs": [
        {
          "output_type": "display_data",
          "data": {
            "text/plain": [
              "[1] \"malaysiapopulation.csv\""
            ],
            "text/latex": "'malaysiapopulation.csv'",
            "text/markdown": "'malaysiapopulation.csv'",
            "text/html": [
              "'malaysiapopulation.csv'"
            ]
          },
          "metadata": {
            "tags": []
          }
        }
      ]
    },
    {
      "cell_type": "code",
      "metadata": {
        "id": "lERtvGT8NLaC"
      },
      "source": [
        "library(\"ggplot2\")"
      ],
      "execution_count": null,
      "outputs": []
    },
    {
      "cell_type": "code",
      "metadata": {
        "id": "8gAN0hlbV3Zt"
      },
      "source": [
        "install.packages(\"ggplot2\")\n",
        "library(\"ggplot2\")\n"
      ],
      "execution_count": null,
      "outputs": []
    },
    {
      "cell_type": "markdown",
      "metadata": {
        "id": "HfNHk4uc_OmH"
      },
      "source": [
        "This graph below shows us the number people living in each state"
      ]
    },
    {
      "cell_type": "code",
      "metadata": {
        "colab": {
          "base_uri": "https://localhost:8080/",
          "height": 437
        },
        "id": "WvgafkeVMMuo",
        "outputId": "4cee50e0-60df-4054-8098-4e6c0e7d2595"
      },
      "source": [
        "ggplot(data=malaysiapopulation.data)+geom_point(mapping = aes(x=state,y=population))"
      ],
      "execution_count": null,
      "outputs": [
        {
          "output_type": "display_data",
          "data": {
            "image/png": "[encoded data removed]",
            "text/plain": [
              "plot without title"
            ]
          },
          "metadata": {
            "tags": [],
            "image/png": {
              "width": 420,
              "height": 420
            }
          }
        }
      ]
    },
    {
      "cell_type": "markdown",
      "metadata": {
        "id": "VcTJMfEd_WUv"
      },
      "source": [
        "This shows us the number of people whi got the fist, second dose of the vaccine of the respective states."
      ]
    },
    {
      "cell_type": "code",
      "metadata": {
        "id": "zpQfygTHHfgH"
      },
      "source": [
        "Vaccination.data <- read.csv(file=\"Vaccination.csv\")"
      ],
      "execution_count": null,
      "outputs": []
    },
    {
      "cell_type": "code",
      "metadata": {
        "colab": {
          "base_uri": "https://localhost:8080/",
          "height": 1000
        },
        "id": "FSUCMO-bOhBi",
        "outputId": "351b9d2a-7fd9-4a33-a368-31ac813c7431"
      },
      "source": [
        "read.csv(\"Vaccination.csv\")"
      ],
      "execution_count": null,
      "outputs": [
        {
          "output_type": "display_data",
          "data": {
            "text/plain": [
              "   date       dose1_perlis dose2_perlis dose1_kedah dose2_kedah dose1_penang\n",
              "1  03/03/2021  1598           0          4388           0        2914       \n",
              "2  03/04/2021  1896           0          5171           0        4034       \n",
              "3  03/05/2021  2223           0          5306           0        5052       \n",
              "4  03/06/2021  2223           0          5414           0        5172       \n",
              "5  03/07/2021  2223           0          6269           0        5292       \n",
              "6  03/08/2021  3062           0          9358           0        6487       \n",
              "7  03/09/2021  4158           0         11638           0        7781       \n",
              "8  03/10/2021  5241           0         14200           0        9811       \n",
              "9  03/11/2021  6006           0         15834           0       12608       \n",
              "10 03/12/2021  6591           0         16546           0       15459       \n",
              "11 03/13/2021  6807           0         17114           0       16255       \n",
              "12 03/14/2021  6807           0         18539           0       16758       \n",
              "13 03/15/2021  7276           0         21171           0       18465       \n",
              "14 03/16/2021  8038           0         23871           0       20393       \n",
              "15 03/17/2021  8795           0         25492           0       22037       \n",
              "16 03/18/2021  9519           1         25958           0       23485       \n",
              "17 03/19/2021  9526         154         26259           6       24996       \n",
              "18 03/20/2021  9526         156         26265           6       26879       \n",
              "19 03/21/2021  9526         156         26271         719       28316       \n",
              "20 03/22/2021  9526         504         26287        1896       29568       \n",
              "21 03/23/2021  9526        1037         26293        3138       30394       \n",
              "22 03/24/2021  9530        1561         26310        4469       31189       \n",
              "23 03/25/2021  9533        1853         26316        5009       31740       \n",
              "24 03/26/2021  9533        2157         26316        5144       31802       \n",
              "25 03/27/2021  9533        2157         26316        5238       31802       \n",
              "26 03/28/2021  9533        2157         26355        6007       31802       \n",
              "27 03/29/2021  9581        2978         27257        8825       32119       \n",
              "28 03/30/2021  9592        4035         28209       11139       32215       \n",
              "29 03/31/2021  9840        4465         29089       13650       32425       \n",
              "30 04/01/2021  9846        5610         30316       15300       33045       \n",
              "31 04/02/2021  9855        6455         30536       15698       33561       \n",
              "32 04/03/2021  9858        6668         30550       16130       33613       \n",
              "33 04/04/2021  9858        6668         31115       17493       33688       \n",
              "34 04/05/2021  9863        6820         31324       19925       33964       \n",
              "35 04/06/2021 10001        6854         32089       22579       34096       \n",
              "36 04/07/2021 10001        6884         32556       24046       34218       \n",
              "37 04/08/2021 10001        6920         32836       24621       35085       \n",
              "38 04/09/2021 10016        8026         33449       24698       35728       \n",
              "   dose2_penang dose1_perak dose2_perak dose1_selangor ⋯ dose1_pahang\n",
              "1      0         7757           0        4276          ⋯  7415       \n",
              "2      0         8844           0        6483          ⋯  8546       \n",
              "3      0         9892           0        8899          ⋯ 10599       \n",
              "4      0        10678           0       11982          ⋯ 13830       \n",
              "5      0        10678           0       12336          ⋯ 14473       \n",
              "6      0        12952           0       15357          ⋯ 15521       \n",
              "7      0        15881           0       19251          ⋯ 16342       \n",
              "8      0        17450           0       24211          ⋯ 17434       \n",
              "9      0        21160           0       29208          ⋯ 19314       \n",
              "10     0        28463           0       33163          ⋯ 21841       \n",
              "11     0        31675           0       35620          ⋯ 25128       \n",
              "12     0        33036           0       36163          ⋯ 25325       \n",
              "13     0        34666           0       38632          ⋯ 25525       \n",
              "14     0        39404           0       41913          ⋯ 25933       \n",
              "15     0        42227           0       45854          ⋯ 26574       \n",
              "16     0        45138         173       49521          ⋯ 27480       \n",
              "17   328        47056         475       52412          ⋯ 28977       \n",
              "18   328        48136         713       52971          ⋯ 30320       \n",
              "19   328        48689         829       53566          ⋯ 33227       \n",
              "20   721        49053        2363       55763          ⋯ 33257       \n",
              "21  1721        49451        5337       58552          ⋯ 33317       \n",
              "22  2756        49528        7197       60521          ⋯ 33320       \n",
              "23  3855        49535        8164       62418          ⋯ 33399       \n",
              "24  4752        49541        9081       63640          ⋯ 33457       \n",
              "25  4866        49545        9760       63675          ⋯ 33463       \n",
              "26  4977        49545        9760       63675          ⋯ 33466       \n",
              "27  6186        49349       12219       65313          ⋯ 33571       \n",
              "28  7507        49359       14962       67128          ⋯ 33573       \n",
              "29  9330        49365       16669       67931          ⋯ 33588       \n",
              "30 11563        49996       20717       69852          ⋯ 33693       \n",
              "31 14191        50307       26662       71389          ⋯ 34109       \n",
              "32 14946        50334       29412       71403          ⋯ 34109       \n",
              "33 15431        50378       30793       71405          ⋯ 34758       \n",
              "34 17483        51149       32132       72666          ⋯ 34836       \n",
              "35 19731        51469       34035       73433          ⋯ 34842       \n",
              "36 21665        52032       34235       74659          ⋯ 35174       \n",
              "37 23131        52548       34436       75225          ⋯ 35469       \n",
              "38 24862        52639       37884       76273          ⋯ 36049       \n",
              "   dose2_pahang dose1_johor dose2_johor dose1_sabah dose2_sabah dose1_labuan\n",
              "1      0         6454           0        1898           0       1789        \n",
              "2      0         8470           0        3492           0       1939        \n",
              "3      0         8802           0        6229           0       2073        \n",
              "4      0         9515           0        9515           0       2158        \n",
              "5      0        10719           0       11739           0       2259        \n",
              "6      0        13746           0       13474           0       2259        \n",
              "7      0        15843           0       16245           0       2260        \n",
              "8      0        17476           0       18670           0       2338        \n",
              "9      0        19559           0       20411           0       2338        \n",
              "10     0        20276           0       21708           0       2342        \n",
              "11     0        21835           0       24042           0       2342        \n",
              "12     0        22965           0       26446           0       2342        \n",
              "13     0        24749           0       30433           0       2342        \n",
              "14     0        26185           0       33966           0       2342        \n",
              "15     0        27131           0       36443           0       2342        \n",
              "16   118        28489          74       38369           0       2342        \n",
              "17   781        28510          74       39331           0       2342        \n",
              "18  2549        29238          74       40134         591       2343        \n",
              "19  2644        29901         810       40168         890       2343        \n",
              "20  3677        30868        2609       40842        1167       2343        \n",
              "21  5793        31451        3271       41125        1525       2344        \n",
              "22  7162        32126        5666       41415        1796       2345        \n",
              "23  8639        33061        7955       41738        3220       2346        \n",
              "24  9471        33553        8274       41758        5450       2347        \n",
              "25 12283        34000        8935       42018        8352       2347        \n",
              "26 12889        35303        9991       42030       10193       2347        \n",
              "27 14582        36391       12661       44516       14439       2390        \n",
              "28 15627        36992       15036       44858       17218       2390        \n",
              "29 16550        37494       16497       45185       19839       2390        \n",
              "30 18507        39624       18696       46023       21262       2499        \n",
              "31 20645        40088       19423       46202       22542       2607        \n",
              "32 23502        40227       20974       46459       24737       2723        \n",
              "33 23705        42214       22138       46562       26563       2723        \n",
              "34 24373        43917       23643       47071       30198       2805        \n",
              "35 25032        45284       25155       49203       33814       2912        \n",
              "36 25676        47250       26171       50918       36956       3020        \n",
              "37 26248        49401       27323       52322       39089       3176        \n",
              "38 28110        49401       27323       53859       40162       3331        \n",
              "   dose2_labuan dose1_sarawak dose2_sarawak\n",
              "1     0         13691             0        \n",
              "2     0         14134             0        \n",
              "3     0         14855             0        \n",
              "4     0         18034             0        \n",
              "5     0         22140             0        \n",
              "6     0         25271             0        \n",
              "7     0         27500             0        \n",
              "8     0         28194             0        \n",
              "9     0         28212             0        \n",
              "10    0         29052             0        \n",
              "11    0         30634             0        \n",
              "12    0         31527             0        \n",
              "13    0         32028             0        \n",
              "14    0         32465             0        \n",
              "15    0         32665             0        \n",
              "16    1         32762             0        \n",
              "17    1         32907          1487        \n",
              "18  127         33788          4848        \n",
              "19  471         35272          7735        \n",
              "20  911         35913          9537        \n",
              "21 1276         36103         10166        \n",
              "22 1567         36244         10643        \n",
              "23 1759         36385         11017        \n",
              "24 1909         36445         12100        \n",
              "25 1987         36972         15135        \n",
              "26 2066         37889         19145        \n",
              "27 2132         37006         22429        \n",
              "28 2156         39970         24535        \n",
              "29 2287         43862         25236        \n",
              "30 2287         48079         25287        \n",
              "31 2318         50482         25615        \n",
              "32 2319         52157         26600        \n",
              "33 2319         53598         27281        \n",
              "34 2319         54344         27645        \n",
              "35 2319         55037         28472        \n",
              "36 2319         56587         29332        \n",
              "37 2319         57466         29873        \n",
              "38 2319         57682         30014        "
            ],
            "text/latex": "A data.frame: 38 × 33\n\\begin{tabular}{lllllllllllllllllllll}\n date & dose1\\_perlis & dose2\\_perlis & dose1\\_kedah & dose2\\_kedah & dose1\\_penang & dose2\\_penang & dose1\\_perak & dose2\\_perak & dose1\\_selangor & ⋯ & dose1\\_pahang & dose2\\_pahang & dose1\\_johor & dose2\\_johor & dose1\\_sabah & dose2\\_sabah & dose1\\_labuan & dose2\\_labuan & dose1\\_sarawak & dose2\\_sarawak\\\\\n <chr> & <int> & <int> & <int> & <int> & <int> & <int> & <int> & <int> & <int> & ⋯ & <int> & <int> & <int> & <int> & <int> & <int> & <int> & <int> & <int> & <int>\\\\\n\\hline\n\t 03/03/2021 &  1598 &    0 &  4388 &     0 &  2914 &     0 &  7757 &     0 &  4276 & ⋯ &  7415 &     0 &  6454 &     0 &  1898 &     0 & 1789 &    0 & 13691 &     0\\\\\n\t 03/04/2021 &  1896 &    0 &  5171 &     0 &  4034 &     0 &  8844 &     0 &  6483 & ⋯ &  8546 &     0 &  8470 &     0 &  3492 &     0 & 1939 &    0 & 14134 &     0\\\\\n\t 03/05/2021 &  2223 &    0 &  5306 &     0 &  5052 &     0 &  9892 &     0 &  8899 & ⋯ & 10599 &     0 &  8802 &     0 &  6229 &     0 & 2073 &    0 & 14855 &     0\\\\\n\t 03/06/2021 &  2223 &    0 &  5414 &     0 &  5172 &     0 & 10678 &     0 & 11982 & ⋯ & 13830 &     0 &  9515 &     0 &  9515 &     0 & 2158 &    0 & 18034 &     0\\\\\n\t 03/07/2021 &  2223 &    0 &  6269 &     0 &  5292 &     0 & 10678 &     0 & 12336 & ⋯ & 14473 &     0 & 10719 &     0 & 11739 &     0 & 2259 &    0 & 22140 &     0\\\\\n\t 03/08/2021 &  3062 &    0 &  9358 &     0 &  6487 &     0 & 12952 &     0 & 15357 & ⋯ & 15521 &     0 & 13746 &     0 & 13474 &     0 & 2259 &    0 & 25271 &     0\\\\\n\t 03/09/2021 &  4158 &    0 & 11638 &     0 &  7781 &     0 & 15881 &     0 & 19251 & ⋯ & 16342 &     0 & 15843 &     0 & 16245 &     0 & 2260 &    0 & 27500 &     0\\\\\n\t 03/10/2021 &  5241 &    0 & 14200 &     0 &  9811 &     0 & 17450 &     0 & 24211 & ⋯ & 17434 &     0 & 17476 &     0 & 18670 &     0 & 2338 &    0 & 28194 &     0\\\\\n\t 03/11/2021 &  6006 &    0 & 15834 &     0 & 12608 &     0 & 21160 &     0 & 29208 & ⋯ & 19314 &     0 & 19559 &     0 & 20411 &     0 & 2338 &    0 & 28212 &     0\\\\\n\t 03/12/2021 &  6591 &    0 & 16546 &     0 & 15459 &     0 & 28463 &     0 & 33163 & ⋯ & 21841 &     0 & 20276 &     0 & 21708 &     0 & 2342 &    0 & 29052 &     0\\\\\n\t 03/13/2021 &  6807 &    0 & 17114 &     0 & 16255 &     0 & 31675 &     0 & 35620 & ⋯ & 25128 &     0 & 21835 &     0 & 24042 &     0 & 2342 &    0 & 30634 &     0\\\\\n\t 03/14/2021 &  6807 &    0 & 18539 &     0 & 16758 &     0 & 33036 &     0 & 36163 & ⋯ & 25325 &     0 & 22965 &     0 & 26446 &     0 & 2342 &    0 & 31527 &     0\\\\\n\t 03/15/2021 &  7276 &    0 & 21171 &     0 & 18465 &     0 & 34666 &     0 & 38632 & ⋯ & 25525 &     0 & 24749 &     0 & 30433 &     0 & 2342 &    0 & 32028 &     0\\\\\n\t 03/16/2021 &  8038 &    0 & 23871 &     0 & 20393 &     0 & 39404 &     0 & 41913 & ⋯ & 25933 &     0 & 26185 &     0 & 33966 &     0 & 2342 &    0 & 32465 &     0\\\\\n\t 03/17/2021 &  8795 &    0 & 25492 &     0 & 22037 &     0 & 42227 &     0 & 45854 & ⋯ & 26574 &     0 & 27131 &     0 & 36443 &     0 & 2342 &    0 & 32665 &     0\\\\\n\t 03/18/2021 &  9519 &    1 & 25958 &     0 & 23485 &     0 & 45138 &   173 & 49521 & ⋯ & 27480 &   118 & 28489 &    74 & 38369 &     0 & 2342 &    1 & 32762 &     0\\\\\n\t 03/19/2021 &  9526 &  154 & 26259 &     6 & 24996 &   328 & 47056 &   475 & 52412 & ⋯ & 28977 &   781 & 28510 &    74 & 39331 &     0 & 2342 &    1 & 32907 &  1487\\\\\n\t 03/20/2021 &  9526 &  156 & 26265 &     6 & 26879 &   328 & 48136 &   713 & 52971 & ⋯ & 30320 &  2549 & 29238 &    74 & 40134 &   591 & 2343 &  127 & 33788 &  4848\\\\\n\t 03/21/2021 &  9526 &  156 & 26271 &   719 & 28316 &   328 & 48689 &   829 & 53566 & ⋯ & 33227 &  2644 & 29901 &   810 & 40168 &   890 & 2343 &  471 & 35272 &  7735\\\\\n\t 03/22/2021 &  9526 &  504 & 26287 &  1896 & 29568 &   721 & 49053 &  2363 & 55763 & ⋯ & 33257 &  3677 & 30868 &  2609 & 40842 &  1167 & 2343 &  911 & 35913 &  9537\\\\\n\t 03/23/2021 &  9526 & 1037 & 26293 &  3138 & 30394 &  1721 & 49451 &  5337 & 58552 & ⋯ & 33317 &  5793 & 31451 &  3271 & 41125 &  1525 & 2344 & 1276 & 36103 & 10166\\\\\n\t 03/24/2021 &  9530 & 1561 & 26310 &  4469 & 31189 &  2756 & 49528 &  7197 & 60521 & ⋯ & 33320 &  7162 & 32126 &  5666 & 41415 &  1796 & 2345 & 1567 & 36244 & 10643\\\\\n\t 03/25/2021 &  9533 & 1853 & 26316 &  5009 & 31740 &  3855 & 49535 &  8164 & 62418 & ⋯ & 33399 &  8639 & 33061 &  7955 & 41738 &  3220 & 2346 & 1759 & 36385 & 11017\\\\\n\t 03/26/2021 &  9533 & 2157 & 26316 &  5144 & 31802 &  4752 & 49541 &  9081 & 63640 & ⋯ & 33457 &  9471 & 33553 &  8274 & 41758 &  5450 & 2347 & 1909 & 36445 & 12100\\\\\n\t 03/27/2021 &  9533 & 2157 & 26316 &  5238 & 31802 &  4866 & 49545 &  9760 & 63675 & ⋯ & 33463 & 12283 & 34000 &  8935 & 42018 &  8352 & 2347 & 1987 & 36972 & 15135\\\\\n\t 03/28/2021 &  9533 & 2157 & 26355 &  6007 & 31802 &  4977 & 49545 &  9760 & 63675 & ⋯ & 33466 & 12889 & 35303 &  9991 & 42030 & 10193 & 2347 & 2066 & 37889 & 19145\\\\\n\t 03/29/2021 &  9581 & 2978 & 27257 &  8825 & 32119 &  6186 & 49349 & 12219 & 65313 & ⋯ & 33571 & 14582 & 36391 & 12661 & 44516 & 14439 & 2390 & 2132 & 37006 & 22429\\\\\n\t 03/30/2021 &  9592 & 4035 & 28209 & 11139 & 32215 &  7507 & 49359 & 14962 & 67128 & ⋯ & 33573 & 15627 & 36992 & 15036 & 44858 & 17218 & 2390 & 2156 & 39970 & 24535\\\\\n\t 03/31/2021 &  9840 & 4465 & 29089 & 13650 & 32425 &  9330 & 49365 & 16669 & 67931 & ⋯ & 33588 & 16550 & 37494 & 16497 & 45185 & 19839 & 2390 & 2287 & 43862 & 25236\\\\\n\t 04/01/2021 &  9846 & 5610 & 30316 & 15300 & 33045 & 11563 & 49996 & 20717 & 69852 & ⋯ & 33693 & 18507 & 39624 & 18696 & 46023 & 21262 & 2499 & 2287 & 48079 & 25287\\\\\n\t 04/02/2021 &  9855 & 6455 & 30536 & 15698 & 33561 & 14191 & 50307 & 26662 & 71389 & ⋯ & 34109 & 20645 & 40088 & 19423 & 46202 & 22542 & 2607 & 2318 & 50482 & 25615\\\\\n\t 04/03/2021 &  9858 & 6668 & 30550 & 16130 & 33613 & 14946 & 50334 & 29412 & 71403 & ⋯ & 34109 & 23502 & 40227 & 20974 & 46459 & 24737 & 2723 & 2319 & 52157 & 26600\\\\\n\t 04/04/2021 &  9858 & 6668 & 31115 & 17493 & 33688 & 15431 & 50378 & 30793 & 71405 & ⋯ & 34758 & 23705 & 42214 & 22138 & 46562 & 26563 & 2723 & 2319 & 53598 & 27281\\\\\n\t 04/05/2021 &  9863 & 6820 & 31324 & 19925 & 33964 & 17483 & 51149 & 32132 & 72666 & ⋯ & 34836 & 24373 & 43917 & 23643 & 47071 & 30198 & 2805 & 2319 & 54344 & 27645\\\\\n\t 04/06/2021 & 10001 & 6854 & 32089 & 22579 & 34096 & 19731 & 51469 & 34035 & 73433 & ⋯ & 34842 & 25032 & 45284 & 25155 & 49203 & 33814 & 2912 & 2319 & 55037 & 28472\\\\\n\t 04/07/2021 & 10001 & 6884 & 32556 & 24046 & 34218 & 21665 & 52032 & 34235 & 74659 & ⋯ & 35174 & 25676 & 47250 & 26171 & 50918 & 36956 & 3020 & 2319 & 56587 & 29332\\\\\n\t 04/08/2021 & 10001 & 6920 & 32836 & 24621 & 35085 & 23131 & 52548 & 34436 & 75225 & ⋯ & 35469 & 26248 & 49401 & 27323 & 52322 & 39089 & 3176 & 2319 & 57466 & 29873\\\\\n\t 04/09/2021 & 10016 & 8026 & 33449 & 24698 & 35728 & 24862 & 52639 & 37884 & 76273 & ⋯ & 36049 & 28110 & 49401 & 27323 & 53859 & 40162 & 3331 & 2319 & 57682 & 30014\\\\\n\\end{tabular}\n",
            "text/markdown": "\nA data.frame: 38 × 33\n\n| date &lt;chr&gt; | dose1_perlis &lt;int&gt; | dose2_perlis &lt;int&gt; | dose1_kedah &lt;int&gt; | dose2_kedah &lt;int&gt; | dose1_penang &lt;int&gt; | dose2_penang &lt;int&gt; | dose1_perak &lt;int&gt; | dose2_perak &lt;int&gt; | dose1_selangor &lt;int&gt; | ⋯ ⋯ | dose1_pahang &lt;int&gt; | dose2_pahang &lt;int&gt; | dose1_johor &lt;int&gt; | dose2_johor &lt;int&gt; | dose1_sabah &lt;int&gt; | dose2_sabah &lt;int&gt; | dose1_labuan &lt;int&gt; | dose2_labuan &lt;int&gt; | dose1_sarawak &lt;int&gt; | dose2_sarawak &lt;int&gt; |\n|---|---|---|---|---|---|---|---|---|---|---|---|---|---|---|---|---|---|---|---|---|\n| 03/03/2021 |  1598 |    0 |  4388 |     0 |  2914 |     0 |  7757 |     0 |  4276 | ⋯ |  7415 |     0 |  6454 |     0 |  1898 |     0 | 1789 |    0 | 13691 |     0 |\n| 03/04/2021 |  1896 |    0 |  5171 |     0 |  4034 |     0 |  8844 |     0 |  6483 | ⋯ |  8546 |     0 |  8470 |     0 |  3492 |     0 | 1939 |    0 | 14134 |     0 |\n| 03/05/2021 |  2223 |    0 |  5306 |     0 |  5052 |     0 |  9892 |     0 |  8899 | ⋯ | 10599 |     0 |  8802 |     0 |  6229 |     0 | 2073 |    0 | 14855 |     0 |\n| 03/06/2021 |  2223 |    0 |  5414 |     0 |  5172 |     0 | 10678 |     0 | 11982 | ⋯ | 13830 |     0 |  9515 |     0 |  9515 |     0 | 2158 |    0 | 18034 |     0 |\n| 03/07/2021 |  2223 |    0 |  6269 |     0 |  5292 |     0 | 10678 |     0 | 12336 | ⋯ | 14473 |     0 | 10719 |     0 | 11739 |     0 | 2259 |    0 | 22140 |     0 |\n| 03/08/2021 |  3062 |    0 |  9358 |     0 |  6487 |     0 | 12952 |     0 | 15357 | ⋯ | 15521 |     0 | 13746 |     0 | 13474 |     0 | 2259 |    0 | 25271 |     0 |\n| 03/09/2021 |  4158 |    0 | 11638 |     0 |  7781 |     0 | 15881 |     0 | 19251 | ⋯ | 16342 |     0 | 15843 |     0 | 16245 |     0 | 2260 |    0 | 27500 |     0 |\n| 03/10/2021 |  5241 |    0 | 14200 |     0 |  9811 |     0 | 17450 |     0 | 24211 | ⋯ | 17434 |     0 | 17476 |     0 | 18670 |     0 | 2338 |    0 | 28194 |     0 |\n| 03/11/2021 |  6006 |    0 | 15834 |     0 | 12608 |     0 | 21160 |     0 | 29208 | ⋯ | 19314 |     0 | 19559 |     0 | 20411 |     0 | 2338 |    0 | 28212 |     0 |\n| 03/12/2021 |  6591 |    0 | 16546 |     0 | 15459 |     0 | 28463 |     0 | 33163 | ⋯ | 21841 |     0 | 20276 |     0 | 21708 |     0 | 2342 |    0 | 29052 |     0 |\n| 03/13/2021 |  6807 |    0 | 17114 |     0 | 16255 |     0 | 31675 |     0 | 35620 | ⋯ | 25128 |     0 | 21835 |     0 | 24042 |     0 | 2342 |    0 | 30634 |     0 |\n| 03/14/2021 |  6807 |    0 | 18539 |     0 | 16758 |     0 | 33036 |     0 | 36163 | ⋯ | 25325 |     0 | 22965 |     0 | 26446 |     0 | 2342 |    0 | 31527 |     0 |\n| 03/15/2021 |  7276 |    0 | 21171 |     0 | 18465 |     0 | 34666 |     0 | 38632 | ⋯ | 25525 |     0 | 24749 |     0 | 30433 |     0 | 2342 |    0 | 32028 |     0 |\n| 03/16/2021 |  8038 |    0 | 23871 |     0 | 20393 |     0 | 39404 |     0 | 41913 | ⋯ | 25933 |     0 | 26185 |     0 | 33966 |     0 | 2342 |    0 | 32465 |     0 |\n| 03/17/2021 |  8795 |    0 | 25492 |     0 | 22037 |     0 | 42227 |     0 | 45854 | ⋯ | 26574 |     0 | 27131 |     0 | 36443 |     0 | 2342 |    0 | 32665 |     0 |\n| 03/18/2021 |  9519 |    1 | 25958 |     0 | 23485 |     0 | 45138 |   173 | 49521 | ⋯ | 27480 |   118 | 28489 |    74 | 38369 |     0 | 2342 |    1 | 32762 |     0 |\n| 03/19/2021 |  9526 |  154 | 26259 |     6 | 24996 |   328 | 47056 |   475 | 52412 | ⋯ | 28977 |   781 | 28510 |    74 | 39331 |     0 | 2342 |    1 | 32907 |  1487 |\n| 03/20/2021 |  9526 |  156 | 26265 |     6 | 26879 |   328 | 48136 |   713 | 52971 | ⋯ | 30320 |  2549 | 29238 |    74 | 40134 |   591 | 2343 |  127 | 33788 |  4848 |\n| 03/21/2021 |  9526 |  156 | 26271 |   719 | 28316 |   328 | 48689 |   829 | 53566 | ⋯ | 33227 |  2644 | 29901 |   810 | 40168 |   890 | 2343 |  471 | 35272 |  7735 |\n| 03/22/2021 |  9526 |  504 | 26287 |  1896 | 29568 |   721 | 49053 |  2363 | 55763 | ⋯ | 33257 |  3677 | 30868 |  2609 | 40842 |  1167 | 2343 |  911 | 35913 |  9537 |\n| 03/23/2021 |  9526 | 1037 | 26293 |  3138 | 30394 |  1721 | 49451 |  5337 | 58552 | ⋯ | 33317 |  5793 | 31451 |  3271 | 41125 |  1525 | 2344 | 1276 | 36103 | 10166 |\n| 03/24/2021 |  9530 | 1561 | 26310 |  4469 | 31189 |  2756 | 49528 |  7197 | 60521 | ⋯ | 33320 |  7162 | 32126 |  5666 | 41415 |  1796 | 2345 | 1567 | 36244 | 10643 |\n| 03/25/2021 |  9533 | 1853 | 26316 |  5009 | 31740 |  3855 | 49535 |  8164 | 62418 | ⋯ | 33399 |  8639 | 33061 |  7955 | 41738 |  3220 | 2346 | 1759 | 36385 | 11017 |\n| 03/26/2021 |  9533 | 2157 | 26316 |  5144 | 31802 |  4752 | 49541 |  9081 | 63640 | ⋯ | 33457 |  9471 | 33553 |  8274 | 41758 |  5450 | 2347 | 1909 | 36445 | 12100 |\n| 03/27/2021 |  9533 | 2157 | 26316 |  5238 | 31802 |  4866 | 49545 |  9760 | 63675 | ⋯ | 33463 | 12283 | 34000 |  8935 | 42018 |  8352 | 2347 | 1987 | 36972 | 15135 |\n| 03/28/2021 |  9533 | 2157 | 26355 |  6007 | 31802 |  4977 | 49545 |  9760 | 63675 | ⋯ | 33466 | 12889 | 35303 |  9991 | 42030 | 10193 | 2347 | 2066 | 37889 | 19145 |\n| 03/29/2021 |  9581 | 2978 | 27257 |  8825 | 32119 |  6186 | 49349 | 12219 | 65313 | ⋯ | 33571 | 14582 | 36391 | 12661 | 44516 | 14439 | 2390 | 2132 | 37006 | 22429 |\n| 03/30/2021 |  9592 | 4035 | 28209 | 11139 | 32215 |  7507 | 49359 | 14962 | 67128 | ⋯ | 33573 | 15627 | 36992 | 15036 | 44858 | 17218 | 2390 | 2156 | 39970 | 24535 |\n| 03/31/2021 |  9840 | 4465 | 29089 | 13650 | 32425 |  9330 | 49365 | 16669 | 67931 | ⋯ | 33588 | 16550 | 37494 | 16497 | 45185 | 19839 | 2390 | 2287 | 43862 | 25236 |\n| 04/01/2021 |  9846 | 5610 | 30316 | 15300 | 33045 | 11563 | 49996 | 20717 | 69852 | ⋯ | 33693 | 18507 | 39624 | 18696 | 46023 | 21262 | 2499 | 2287 | 48079 | 25287 |\n| 04/02/2021 |  9855 | 6455 | 30536 | 15698 | 33561 | 14191 | 50307 | 26662 | 71389 | ⋯ | 34109 | 20645 | 40088 | 19423 | 46202 | 22542 | 2607 | 2318 | 50482 | 25615 |\n| 04/03/2021 |  9858 | 6668 | 30550 | 16130 | 33613 | 14946 | 50334 | 29412 | 71403 | ⋯ | 34109 | 23502 | 40227 | 20974 | 46459 | 24737 | 2723 | 2319 | 52157 | 26600 |\n| 04/04/2021 |  9858 | 6668 | 31115 | 17493 | 33688 | 15431 | 50378 | 30793 | 71405 | ⋯ | 34758 | 23705 | 42214 | 22138 | 46562 | 26563 | 2723 | 2319 | 53598 | 27281 |\n| 04/05/2021 |  9863 | 6820 | 31324 | 19925 | 33964 | 17483 | 51149 | 32132 | 72666 | ⋯ | 34836 | 24373 | 43917 | 23643 | 47071 | 30198 | 2805 | 2319 | 54344 | 27645 |\n| 04/06/2021 | 10001 | 6854 | 32089 | 22579 | 34096 | 19731 | 51469 | 34035 | 73433 | ⋯ | 34842 | 25032 | 45284 | 25155 | 49203 | 33814 | 2912 | 2319 | 55037 | 28472 |\n| 04/07/2021 | 10001 | 6884 | 32556 | 24046 | 34218 | 21665 | 52032 | 34235 | 74659 | ⋯ | 35174 | 25676 | 47250 | 26171 | 50918 | 36956 | 3020 | 2319 | 56587 | 29332 |\n| 04/08/2021 | 10001 | 6920 | 32836 | 24621 | 35085 | 23131 | 52548 | 34436 | 75225 | ⋯ | 35469 | 26248 | 49401 | 27323 | 52322 | 39089 | 3176 | 2319 | 57466 | 29873 |\n| 04/09/2021 | 10016 | 8026 | 33449 | 24698 | 35728 | 24862 | 52639 | 37884 | 76273 | ⋯ | 36049 | 28110 | 49401 | 27323 | 53859 | 40162 | 3331 | 2319 | 57682 | 30014 |\n\n",
            "text/html": [
              "<table class=\"dataframe\">\n",
              "<caption>A data.frame: 38 × 33</caption>\n",
              "<thead>\n",
              "\t<tr><th scope=col>date</th><th scope=col>dose1_perlis</th><th scope=col>dose2_perlis</th><th scope=col>dose1_kedah</th><th scope=col>dose2_kedah</th><th scope=col>dose1_penang</th><th scope=col>dose2_penang</th><th scope=col>dose1_perak</th><th scope=col>dose2_perak</th><th scope=col>dose1_selangor</th><th scope=col>⋯</th><th scope=col>dose1_pahang</th><th scope=col>dose2_pahang</th><th scope=col>dose1_johor</th><th scope=col>dose2_johor</th><th scope=col>dose1_sabah</th><th scope=col>dose2_sabah</th><th scope=col>dose1_labuan</th><th scope=col>dose2_labuan</th><th scope=col>dose1_sarawak</th><th scope=col>dose2_sarawak</th></tr>\n",
              "\t<tr><th scope=col>&lt;chr&gt;</th><th scope=col>&lt;int&gt;</th><th scope=col>&lt;int&gt;</th><th scope=col>&lt;int&gt;</th><th scope=col>&lt;int&gt;</th><th scope=col>&lt;int&gt;</th><th scope=col>&lt;int&gt;</th><th scope=col>&lt;int&gt;</th><th scope=col>&lt;int&gt;</th><th scope=col>&lt;int&gt;</th><th scope=col>⋯</th><th scope=col>&lt;int&gt;</th><th scope=col>&lt;int&gt;</th><th scope=col>&lt;int&gt;</th><th scope=col>&lt;int&gt;</th><th scope=col>&lt;int&gt;</th><th scope=col>&lt;int&gt;</th><th scope=col>&lt;int&gt;</th><th scope=col>&lt;int&gt;</th><th scope=col>&lt;int&gt;</th><th scope=col>&lt;int&gt;</th></tr>\n",
              "</thead>\n",
              "<tbody>\n",
              "\t<tr><td>03/03/2021</td><td> 1598</td><td>   0</td><td> 4388</td><td>    0</td><td> 2914</td><td>    0</td><td> 7757</td><td>    0</td><td> 4276</td><td>⋯</td><td> 7415</td><td>    0</td><td> 6454</td><td>    0</td><td> 1898</td><td>    0</td><td>1789</td><td>   0</td><td>13691</td><td>    0</td></tr>\n",
              "\t<tr><td>03/04/2021</td><td> 1896</td><td>   0</td><td> 5171</td><td>    0</td><td> 4034</td><td>    0</td><td> 8844</td><td>    0</td><td> 6483</td><td>⋯</td><td> 8546</td><td>    0</td><td> 8470</td><td>    0</td><td> 3492</td><td>    0</td><td>1939</td><td>   0</td><td>14134</td><td>    0</td></tr>\n",
              "\t<tr><td>03/05/2021</td><td> 2223</td><td>   0</td><td> 5306</td><td>    0</td><td> 5052</td><td>    0</td><td> 9892</td><td>    0</td><td> 8899</td><td>⋯</td><td>10599</td><td>    0</td><td> 8802</td><td>    0</td><td> 6229</td><td>    0</td><td>2073</td><td>   0</td><td>14855</td><td>    0</td></tr>\n",
              "\t<tr><td>03/06/2021</td><td> 2223</td><td>   0</td><td> 5414</td><td>    0</td><td> 5172</td><td>    0</td><td>10678</td><td>    0</td><td>11982</td><td>⋯</td><td>13830</td><td>    0</td><td> 9515</td><td>    0</td><td> 9515</td><td>    0</td><td>2158</td><td>   0</td><td>18034</td><td>    0</td></tr>\n",
              "\t<tr><td>03/07/2021</td><td> 2223</td><td>   0</td><td> 6269</td><td>    0</td><td> 5292</td><td>    0</td><td>10678</td><td>    0</td><td>12336</td><td>⋯</td><td>14473</td><td>    0</td><td>10719</td><td>    0</td><td>11739</td><td>    0</td><td>2259</td><td>   0</td><td>22140</td><td>    0</td></tr>\n",
              "\t<tr><td>03/08/2021</td><td> 3062</td><td>   0</td><td> 9358</td><td>    0</td><td> 6487</td><td>    0</td><td>12952</td><td>    0</td><td>15357</td><td>⋯</td><td>15521</td><td>    0</td><td>13746</td><td>    0</td><td>13474</td><td>    0</td><td>2259</td><td>   0</td><td>25271</td><td>    0</td></tr>\n",
              "\t<tr><td>03/09/2021</td><td> 4158</td><td>   0</td><td>11638</td><td>    0</td><td> 7781</td><td>    0</td><td>15881</td><td>    0</td><td>19251</td><td>⋯</td><td>16342</td><td>    0</td><td>15843</td><td>    0</td><td>16245</td><td>    0</td><td>2260</td><td>   0</td><td>27500</td><td>    0</td></tr>\n",
              "\t<tr><td>03/10/2021</td><td> 5241</td><td>   0</td><td>14200</td><td>    0</td><td> 9811</td><td>    0</td><td>17450</td><td>    0</td><td>24211</td><td>⋯</td><td>17434</td><td>    0</td><td>17476</td><td>    0</td><td>18670</td><td>    0</td><td>2338</td><td>   0</td><td>28194</td><td>    0</td></tr>\n",
              "\t<tr><td>03/11/2021</td><td> 6006</td><td>   0</td><td>15834</td><td>    0</td><td>12608</td><td>    0</td><td>21160</td><td>    0</td><td>29208</td><td>⋯</td><td>19314</td><td>    0</td><td>19559</td><td>    0</td><td>20411</td><td>    0</td><td>2338</td><td>   0</td><td>28212</td><td>    0</td></tr>\n",
              "\t<tr><td>03/12/2021</td><td> 6591</td><td>   0</td><td>16546</td><td>    0</td><td>15459</td><td>    0</td><td>28463</td><td>    0</td><td>33163</td><td>⋯</td><td>21841</td><td>    0</td><td>20276</td><td>    0</td><td>21708</td><td>    0</td><td>2342</td><td>   0</td><td>29052</td><td>    0</td></tr>\n",
              "\t<tr><td>03/13/2021</td><td> 6807</td><td>   0</td><td>17114</td><td>    0</td><td>16255</td><td>    0</td><td>31675</td><td>    0</td><td>35620</td><td>⋯</td><td>25128</td><td>    0</td><td>21835</td><td>    0</td><td>24042</td><td>    0</td><td>2342</td><td>   0</td><td>30634</td><td>    0</td></tr>\n",
              "\t<tr><td>03/14/2021</td><td> 6807</td><td>   0</td><td>18539</td><td>    0</td><td>16758</td><td>    0</td><td>33036</td><td>    0</td><td>36163</td><td>⋯</td><td>25325</td><td>    0</td><td>22965</td><td>    0</td><td>26446</td><td>    0</td><td>2342</td><td>   0</td><td>31527</td><td>    0</td></tr>\n",
              "\t<tr><td>03/15/2021</td><td> 7276</td><td>   0</td><td>21171</td><td>    0</td><td>18465</td><td>    0</td><td>34666</td><td>    0</td><td>38632</td><td>⋯</td><td>25525</td><td>    0</td><td>24749</td><td>    0</td><td>30433</td><td>    0</td><td>2342</td><td>   0</td><td>32028</td><td>    0</td></tr>\n",
              "\t<tr><td>03/16/2021</td><td> 8038</td><td>   0</td><td>23871</td><td>    0</td><td>20393</td><td>    0</td><td>39404</td><td>    0</td><td>41913</td><td>⋯</td><td>25933</td><td>    0</td><td>26185</td><td>    0</td><td>33966</td><td>    0</td><td>2342</td><td>   0</td><td>32465</td><td>    0</td></tr>\n",
              "\t<tr><td>03/17/2021</td><td> 8795</td><td>   0</td><td>25492</td><td>    0</td><td>22037</td><td>    0</td><td>42227</td><td>    0</td><td>45854</td><td>⋯</td><td>26574</td><td>    0</td><td>27131</td><td>    0</td><td>36443</td><td>    0</td><td>2342</td><td>   0</td><td>32665</td><td>    0</td></tr>\n",
              "\t<tr><td>03/18/2021</td><td> 9519</td><td>   1</td><td>25958</td><td>    0</td><td>23485</td><td>    0</td><td>45138</td><td>  173</td><td>49521</td><td>⋯</td><td>27480</td><td>  118</td><td>28489</td><td>   74</td><td>38369</td><td>    0</td><td>2342</td><td>   1</td><td>32762</td><td>    0</td></tr>\n",
              "\t<tr><td>03/19/2021</td><td> 9526</td><td> 154</td><td>26259</td><td>    6</td><td>24996</td><td>  328</td><td>47056</td><td>  475</td><td>52412</td><td>⋯</td><td>28977</td><td>  781</td><td>28510</td><td>   74</td><td>39331</td><td>    0</td><td>2342</td><td>   1</td><td>32907</td><td> 1487</td></tr>\n",
              "\t<tr><td>03/20/2021</td><td> 9526</td><td> 156</td><td>26265</td><td>    6</td><td>26879</td><td>  328</td><td>48136</td><td>  713</td><td>52971</td><td>⋯</td><td>30320</td><td> 2549</td><td>29238</td><td>   74</td><td>40134</td><td>  591</td><td>2343</td><td> 127</td><td>33788</td><td> 4848</td></tr>\n",
              "\t<tr><td>03/21/2021</td><td> 9526</td><td> 156</td><td>26271</td><td>  719</td><td>28316</td><td>  328</td><td>48689</td><td>  829</td><td>53566</td><td>⋯</td><td>33227</td><td> 2644</td><td>29901</td><td>  810</td><td>40168</td><td>  890</td><td>2343</td><td> 471</td><td>35272</td><td> 7735</td></tr>\n",
              "\t<tr><td>03/22/2021</td><td> 9526</td><td> 504</td><td>26287</td><td> 1896</td><td>29568</td><td>  721</td><td>49053</td><td> 2363</td><td>55763</td><td>⋯</td><td>33257</td><td> 3677</td><td>30868</td><td> 2609</td><td>40842</td><td> 1167</td><td>2343</td><td> 911</td><td>35913</td><td> 9537</td></tr>\n",
              "\t<tr><td>03/23/2021</td><td> 9526</td><td>1037</td><td>26293</td><td> 3138</td><td>30394</td><td> 1721</td><td>49451</td><td> 5337</td><td>58552</td><td>⋯</td><td>33317</td><td> 5793</td><td>31451</td><td> 3271</td><td>41125</td><td> 1525</td><td>2344</td><td>1276</td><td>36103</td><td>10166</td></tr>\n",
              "\t<tr><td>03/24/2021</td><td> 9530</td><td>1561</td><td>26310</td><td> 4469</td><td>31189</td><td> 2756</td><td>49528</td><td> 7197</td><td>60521</td><td>⋯</td><td>33320</td><td> 7162</td><td>32126</td><td> 5666</td><td>41415</td><td> 1796</td><td>2345</td><td>1567</td><td>36244</td><td>10643</td></tr>\n",
              "\t<tr><td>03/25/2021</td><td> 9533</td><td>1853</td><td>26316</td><td> 5009</td><td>31740</td><td> 3855</td><td>49535</td><td> 8164</td><td>62418</td><td>⋯</td><td>33399</td><td> 8639</td><td>33061</td><td> 7955</td><td>41738</td><td> 3220</td><td>2346</td><td>1759</td><td>36385</td><td>11017</td></tr>\n",
              "\t<tr><td>03/26/2021</td><td> 9533</td><td>2157</td><td>26316</td><td> 5144</td><td>31802</td><td> 4752</td><td>49541</td><td> 9081</td><td>63640</td><td>⋯</td><td>33457</td><td> 9471</td><td>33553</td><td> 8274</td><td>41758</td><td> 5450</td><td>2347</td><td>1909</td><td>36445</td><td>12100</td></tr>\n",
              "\t<tr><td>03/27/2021</td><td> 9533</td><td>2157</td><td>26316</td><td> 5238</td><td>31802</td><td> 4866</td><td>49545</td><td> 9760</td><td>63675</td><td>⋯</td><td>33463</td><td>12283</td><td>34000</td><td> 8935</td><td>42018</td><td> 8352</td><td>2347</td><td>1987</td><td>36972</td><td>15135</td></tr>\n",
              "\t<tr><td>03/28/2021</td><td> 9533</td><td>2157</td><td>26355</td><td> 6007</td><td>31802</td><td> 4977</td><td>49545</td><td> 9760</td><td>63675</td><td>⋯</td><td>33466</td><td>12889</td><td>35303</td><td> 9991</td><td>42030</td><td>10193</td><td>2347</td><td>2066</td><td>37889</td><td>19145</td></tr>\n",
              "\t<tr><td>03/29/2021</td><td> 9581</td><td>2978</td><td>27257</td><td> 8825</td><td>32119</td><td> 6186</td><td>49349</td><td>12219</td><td>65313</td><td>⋯</td><td>33571</td><td>14582</td><td>36391</td><td>12661</td><td>44516</td><td>14439</td><td>2390</td><td>2132</td><td>37006</td><td>22429</td></tr>\n",
              "\t<tr><td>03/30/2021</td><td> 9592</td><td>4035</td><td>28209</td><td>11139</td><td>32215</td><td> 7507</td><td>49359</td><td>14962</td><td>67128</td><td>⋯</td><td>33573</td><td>15627</td><td>36992</td><td>15036</td><td>44858</td><td>17218</td><td>2390</td><td>2156</td><td>39970</td><td>24535</td></tr>\n",
              "\t<tr><td>03/31/2021</td><td> 9840</td><td>4465</td><td>29089</td><td>13650</td><td>32425</td><td> 9330</td><td>49365</td><td>16669</td><td>67931</td><td>⋯</td><td>33588</td><td>16550</td><td>37494</td><td>16497</td><td>45185</td><td>19839</td><td>2390</td><td>2287</td><td>43862</td><td>25236</td></tr>\n",
              "\t<tr><td>04/01/2021</td><td> 9846</td><td>5610</td><td>30316</td><td>15300</td><td>33045</td><td>11563</td><td>49996</td><td>20717</td><td>69852</td><td>⋯</td><td>33693</td><td>18507</td><td>39624</td><td>18696</td><td>46023</td><td>21262</td><td>2499</td><td>2287</td><td>48079</td><td>25287</td></tr>\n",
              "\t<tr><td>04/02/2021</td><td> 9855</td><td>6455</td><td>30536</td><td>15698</td><td>33561</td><td>14191</td><td>50307</td><td>26662</td><td>71389</td><td>⋯</td><td>34109</td><td>20645</td><td>40088</td><td>19423</td><td>46202</td><td>22542</td><td>2607</td><td>2318</td><td>50482</td><td>25615</td></tr>\n",
              "\t<tr><td>04/03/2021</td><td> 9858</td><td>6668</td><td>30550</td><td>16130</td><td>33613</td><td>14946</td><td>50334</td><td>29412</td><td>71403</td><td>⋯</td><td>34109</td><td>23502</td><td>40227</td><td>20974</td><td>46459</td><td>24737</td><td>2723</td><td>2319</td><td>52157</td><td>26600</td></tr>\n",
              "\t<tr><td>04/04/2021</td><td> 9858</td><td>6668</td><td>31115</td><td>17493</td><td>33688</td><td>15431</td><td>50378</td><td>30793</td><td>71405</td><td>⋯</td><td>34758</td><td>23705</td><td>42214</td><td>22138</td><td>46562</td><td>26563</td><td>2723</td><td>2319</td><td>53598</td><td>27281</td></tr>\n",
              "\t<tr><td>04/05/2021</td><td> 9863</td><td>6820</td><td>31324</td><td>19925</td><td>33964</td><td>17483</td><td>51149</td><td>32132</td><td>72666</td><td>⋯</td><td>34836</td><td>24373</td><td>43917</td><td>23643</td><td>47071</td><td>30198</td><td>2805</td><td>2319</td><td>54344</td><td>27645</td></tr>\n",
              "\t<tr><td>04/06/2021</td><td>10001</td><td>6854</td><td>32089</td><td>22579</td><td>34096</td><td>19731</td><td>51469</td><td>34035</td><td>73433</td><td>⋯</td><td>34842</td><td>25032</td><td>45284</td><td>25155</td><td>49203</td><td>33814</td><td>2912</td><td>2319</td><td>55037</td><td>28472</td></tr>\n",
              "\t<tr><td>04/07/2021</td><td>10001</td><td>6884</td><td>32556</td><td>24046</td><td>34218</td><td>21665</td><td>52032</td><td>34235</td><td>74659</td><td>⋯</td><td>35174</td><td>25676</td><td>47250</td><td>26171</td><td>50918</td><td>36956</td><td>3020</td><td>2319</td><td>56587</td><td>29332</td></tr>\n",
              "\t<tr><td>04/08/2021</td><td>10001</td><td>6920</td><td>32836</td><td>24621</td><td>35085</td><td>23131</td><td>52548</td><td>34436</td><td>75225</td><td>⋯</td><td>35469</td><td>26248</td><td>49401</td><td>27323</td><td>52322</td><td>39089</td><td>3176</td><td>2319</td><td>57466</td><td>29873</td></tr>\n",
              "\t<tr><td>04/09/2021</td><td>10016</td><td>8026</td><td>33449</td><td>24698</td><td>35728</td><td>24862</td><td>52639</td><td>37884</td><td>76273</td><td>⋯</td><td>36049</td><td>28110</td><td>49401</td><td>27323</td><td>53859</td><td>40162</td><td>3331</td><td>2319</td><td>57682</td><td>30014</td></tr>\n",
              "</tbody>\n",
              "</table>\n"
            ]
          },
          "metadata": {
            "tags": []
          }
        }
      ]
    },
    {
      "cell_type": "code",
      "metadata": {
        "id": "9PX_hRtjcZAv",
        "colab": {
          "base_uri": "https://localhost:8080/"
        },
        "outputId": "43a02680-a2ef-4c6e-dc61-9f48c9481855"
      },
      "source": [
        "install.packages(\"janitor\")\n",
        "install.packages(\"here\")\n",
        "install.packages(\"skimr\")\n",
        "library(\"janitor\")\n",
        "library(\"skimr\")\n",
        "library(\"here\")\n",
        "library(\"ggplot2\")"
      ],
      "execution_count": null,
      "outputs": [
        {
          "output_type": "stream",
          "text": [
            "Installing package into ‘/usr/local/lib/R/site-library’\n",
            "(as ‘lib’ is unspecified)\n",
            "\n",
            "also installing the dependency ‘snakecase’\n",
            "\n",
            "\n",
            "Installing package into ‘/usr/local/lib/R/site-library’\n",
            "(as ‘lib’ is unspecified)\n",
            "\n",
            "Installing package into ‘/usr/local/lib/R/site-library’\n",
            "(as ‘lib’ is unspecified)\n",
            "\n",
            "Warning message in system(\"timedatectl\", intern = TRUE):\n",
            "“running command 'timedatectl' had status 1”\n",
            "\n",
            "Attaching package: ‘janitor’\n",
            "\n",
            "\n",
            "The following objects are masked from ‘package:stats’:\n",
            "\n",
            "    chisq.test, fisher.test\n",
            "\n",
            "\n",
            "here() starts at /content\n",
            "\n"
          ],
          "name": "stderr"
        }
      ]
    },
    {
      "cell_type": "code",
      "metadata": {
        "colab": {
          "base_uri": "https://localhost:8080/",
          "height": 593
        },
        "id": "sn3WYc3TGfwA",
        "outputId": "77437560-3456-47c1-a5c7-c34dbc899cc3"
      },
      "source": [
        "read.csv(\"malaysiapopulation.csv\")"
      ],
      "execution_count": null,
      "outputs": [
        {
          "output_type": "display_data",
          "data": {
            "text/plain": [
              "   state      population\n",
              "1  perlis      187756   \n",
              "2  kedah      1595396   \n",
              "3  penang     1385097   \n",
              "4  perak      1932525   \n",
              "5  selangor   4838547   \n",
              "6  kl         1481138   \n",
              "7  putrajaya    56913   \n",
              "8  ns          850890   \n",
              "9  melaka      701711   \n",
              "10 kelantan   1237273   \n",
              "11 terengganu  841837   \n",
              "12 pahang     1235357   \n",
              "13 johor      2839652   \n",
              "14 sabah      2921000   \n",
              "15 labuan       72272   \n",
              "16 sarawak    2072490   "
            ],
            "text/latex": "A data.frame: 16 × 2\n\\begin{tabular}{ll}\n state & population\\\\\n <chr> & <int>\\\\\n\\hline\n\t perlis     &  187756\\\\\n\t kedah      & 1595396\\\\\n\t penang     & 1385097\\\\\n\t perak      & 1932525\\\\\n\t selangor   & 4838547\\\\\n\t kl         & 1481138\\\\\n\t putrajaya  &   56913\\\\\n\t ns         &  850890\\\\\n\t melaka     &  701711\\\\\n\t kelantan   & 1237273\\\\\n\t terengganu &  841837\\\\\n\t pahang     & 1235357\\\\\n\t johor      & 2839652\\\\\n\t sabah      & 2921000\\\\\n\t labuan     &   72272\\\\\n\t sarawak    & 2072490\\\\\n\\end{tabular}\n",
            "text/markdown": "\nA data.frame: 16 × 2\n\n| state &lt;chr&gt; | population &lt;int&gt; |\n|---|---|\n| perlis     |  187756 |\n| kedah      | 1595396 |\n| penang     | 1385097 |\n| perak      | 1932525 |\n| selangor   | 4838547 |\n| kl         | 1481138 |\n| putrajaya  |   56913 |\n| ns         |  850890 |\n| melaka     |  701711 |\n| kelantan   | 1237273 |\n| terengganu |  841837 |\n| pahang     | 1235357 |\n| johor      | 2839652 |\n| sabah      | 2921000 |\n| labuan     |   72272 |\n| sarawak    | 2072490 |\n\n",
            "text/html": [
              "<table class=\"dataframe\">\n",
              "<caption>A data.frame: 16 × 2</caption>\n",
              "<thead>\n",
              "\t<tr><th scope=col>state</th><th scope=col>population</th></tr>\n",
              "\t<tr><th scope=col>&lt;chr&gt;</th><th scope=col>&lt;int&gt;</th></tr>\n",
              "</thead>\n",
              "<tbody>\n",
              "\t<tr><td>perlis    </td><td> 187756</td></tr>\n",
              "\t<tr><td>kedah     </td><td>1595396</td></tr>\n",
              "\t<tr><td>penang    </td><td>1385097</td></tr>\n",
              "\t<tr><td>perak     </td><td>1932525</td></tr>\n",
              "\t<tr><td>selangor  </td><td>4838547</td></tr>\n",
              "\t<tr><td>kl        </td><td>1481138</td></tr>\n",
              "\t<tr><td>putrajaya </td><td>  56913</td></tr>\n",
              "\t<tr><td>ns        </td><td> 850890</td></tr>\n",
              "\t<tr><td>melaka    </td><td> 701711</td></tr>\n",
              "\t<tr><td>kelantan  </td><td>1237273</td></tr>\n",
              "\t<tr><td>terengganu</td><td> 841837</td></tr>\n",
              "\t<tr><td>pahang    </td><td>1235357</td></tr>\n",
              "\t<tr><td>johor     </td><td>2839652</td></tr>\n",
              "\t<tr><td>sabah     </td><td>2921000</td></tr>\n",
              "\t<tr><td>labuan    </td><td>  72272</td></tr>\n",
              "\t<tr><td>sarawak   </td><td>2072490</td></tr>\n",
              "</tbody>\n",
              "</table>\n"
            ]
          },
          "metadata": {
            "tags": []
          }
        }
      ]
    },
    {
      "cell_type": "code",
      "metadata": {
        "id": "NUgRsd66G_60"
      },
      "source": [
        "malaysiapopulation.data <- read.csv(file=\"malaysiapopulation.csv\")"
      ],
      "execution_count": null,
      "outputs": []
    },
    {
      "cell_type": "markdown",
      "metadata": {
        "id": "N0XO8sps_r3V"
      },
      "source": [
        "This tabel shows us the total number people who had taken the first dose of vaccine in each state "
      ]
    },
    {
      "cell_type": "code",
      "metadata": {
        "colab": {
          "base_uri": "https://localhost:8080/",
          "height": 562
        },
        "id": "aF7R3DOp4In4",
        "outputId": "46c60b66-f515-4148-857a-0c92176595e3"
      },
      "source": [
        "read.csv(\"file1.csv\")"
      ],
      "execution_count": null,
      "outputs": [
        {
          "output_type": "display_data",
          "data": {
            "text/plain": [
              "   STATE      NO.OF.PEOPLE.WHO.TOOK.FIRST.DOSE X  X.1\n",
              "1  perlis      296067                          NA    \n",
              "2  kedah       858583                          NA    \n",
              "3  penang      894248                          NA    \n",
              "4  perak      1468905                          NA l  \n",
              "5  selangor   1856739                          NA    \n",
              "6  kl         1276067                          NA    \n",
              "7  ns          660834                          NA    \n",
              "8  melaka      388260                          NA    \n",
              "9  kelantan    700774                          NA    \n",
              "10 terengganu  664862                          NA    \n",
              "11 sarawak    1377352                          NA    \n",
              "12 sabah      1296817                          NA    \n",
              "13 pahang     1041254                          NA    \n",
              "14 johor      1108508                          NA    \n",
              "15 labuan       92220                          NA    "
            ],
            "text/latex": "A data.frame: 15 × 4\n\\begin{tabular}{llll}\n STATE & NO.OF.PEOPLE.WHO.TOOK.FIRST.DOSE & X & X.1\\\\\n <chr> & <int> & <lgl> & <chr>\\\\\n\\hline\n\t perlis     &  296067 & NA &  \\\\\n\t kedah      &  858583 & NA &  \\\\\n\t penang     &  894248 & NA &  \\\\\n\t perak      & 1468905 & NA & l\\\\\n\t selangor   & 1856739 & NA &  \\\\\n\t kl         & 1276067 & NA &  \\\\\n\t ns         &  660834 & NA &  \\\\\n\t melaka     &  388260 & NA &  \\\\\n\t kelantan   &  700774 & NA &  \\\\\n\t terengganu &  664862 & NA &  \\\\\n\t sarawak    & 1377352 & NA &  \\\\\n\t sabah      & 1296817 & NA &  \\\\\n\t pahang     & 1041254 & NA &  \\\\\n\t johor      & 1108508 & NA &  \\\\\n\t labuan     &   92220 & NA &  \\\\\n\\end{tabular}\n",
            "text/markdown": "\nA data.frame: 15 × 4\n\n| STATE &lt;chr&gt; | NO.OF.PEOPLE.WHO.TOOK.FIRST.DOSE &lt;int&gt; | X &lt;lgl&gt; | X.1 &lt;chr&gt; |\n|---|---|---|---|\n| perlis     |  296067 | NA | <!----> |\n| kedah      |  858583 | NA | <!----> |\n| penang     |  894248 | NA | <!----> |\n| perak      | 1468905 | NA | l |\n| selangor   | 1856739 | NA | <!----> |\n| kl         | 1276067 | NA | <!----> |\n| ns         |  660834 | NA | <!----> |\n| melaka     |  388260 | NA | <!----> |\n| kelantan   |  700774 | NA | <!----> |\n| terengganu |  664862 | NA | <!----> |\n| sarawak    | 1377352 | NA | <!----> |\n| sabah      | 1296817 | NA | <!----> |\n| pahang     | 1041254 | NA | <!----> |\n| johor      | 1108508 | NA | <!----> |\n| labuan     |   92220 | NA | <!----> |\n\n",
            "text/html": [
              "<table class=\"dataframe\">\n",
              "<caption>A data.frame: 15 × 4</caption>\n",
              "<thead>\n",
              "\t<tr><th scope=col>STATE</th><th scope=col>NO.OF.PEOPLE.WHO.TOOK.FIRST.DOSE</th><th scope=col>X</th><th scope=col>X.1</th></tr>\n",
              "\t<tr><th scope=col>&lt;chr&gt;</th><th scope=col>&lt;int&gt;</th><th scope=col>&lt;lgl&gt;</th><th scope=col>&lt;chr&gt;</th></tr>\n",
              "</thead>\n",
              "<tbody>\n",
              "\t<tr><td>perlis    </td><td> 296067</td><td>NA</td><td> </td></tr>\n",
              "\t<tr><td>kedah     </td><td> 858583</td><td>NA</td><td> </td></tr>\n",
              "\t<tr><td>penang    </td><td> 894248</td><td>NA</td><td> </td></tr>\n",
              "\t<tr><td>perak     </td><td>1468905</td><td>NA</td><td>l</td></tr>\n",
              "\t<tr><td>selangor  </td><td>1856739</td><td>NA</td><td> </td></tr>\n",
              "\t<tr><td>kl        </td><td>1276067</td><td>NA</td><td> </td></tr>\n",
              "\t<tr><td>ns        </td><td> 660834</td><td>NA</td><td> </td></tr>\n",
              "\t<tr><td>melaka    </td><td> 388260</td><td>NA</td><td> </td></tr>\n",
              "\t<tr><td>kelantan  </td><td> 700774</td><td>NA</td><td> </td></tr>\n",
              "\t<tr><td>terengganu</td><td> 664862</td><td>NA</td><td> </td></tr>\n",
              "\t<tr><td>sarawak   </td><td>1377352</td><td>NA</td><td> </td></tr>\n",
              "\t<tr><td>sabah     </td><td>1296817</td><td>NA</td><td> </td></tr>\n",
              "\t<tr><td>pahang    </td><td>1041254</td><td>NA</td><td> </td></tr>\n",
              "\t<tr><td>johor     </td><td>1108508</td><td>NA</td><td> </td></tr>\n",
              "\t<tr><td>labuan    </td><td>  92220</td><td>NA</td><td> </td></tr>\n",
              "</tbody>\n",
              "</table>\n"
            ]
          },
          "metadata": {
            "tags": []
          }
        }
      ]
    },
    {
      "cell_type": "code",
      "metadata": {
        "id": "cMVlIkXI4Pw3"
      },
      "source": [
        "library(\"ggplot2\")\n",
        "library(\"dplyr\")"
      ],
      "execution_count": null,
      "outputs": []
    },
    {
      "cell_type": "markdown",
      "metadata": {
        "id": "G2PcVJEm_7YW"
      },
      "source": [
        "This graph shows us the  total no.of people who took the first dose of  vaccine in each state"
      ]
    },
    {
      "cell_type": "code",
      "metadata": {
        "colab": {
          "base_uri": "https://localhost:8080/",
          "height": 437
        },
        "id": "1TuJmAVR4Wlg",
        "outputId": "862ce582-d7fd-43ea-c019-197baefae71a"
      },
      "source": [
        "\n",
        "ggplot(data=file1.data)+geom_point(mapping = aes(x=NO.OF.PEOPLE.WHO.TOOK.FIRST.DOSE,y=STATE\t))"
      ],
      "execution_count": null,
      "outputs": [
        {
          "output_type": "display_data",
          "data": {
            "image/png": "[encoded data removed]",
            "text/plain": [
              "plot without title"
            ]
          },
          "metadata": {
            "tags": [],
            "image/png": {
              "width": 420,
              "height": 420
            }
          }
        }
      ]
    },
    {
      "cell_type": "code",
      "metadata": {
        "colab": {
          "base_uri": "https://localhost:8080/",
          "height": 593
        },
        "id": "c7P8yfRH7FfI",
        "outputId": "5ee6e482-77e2-4091-a7c2-6a879549a343"
      },
      "source": [
        "read.csv(\"malaysiapopulation.csv\")"
      ],
      "execution_count": null,
      "outputs": [
        {
          "output_type": "display_data",
          "data": {
            "text/plain": [
              "   state      population\n",
              "1  perlis      187756   \n",
              "2  kedah      1595396   \n",
              "3  penang     1385097   \n",
              "4  perak      1932525   \n",
              "5  selangor   4838547   \n",
              "6  kl         1481138   \n",
              "7  putrajaya    56913   \n",
              "8  ns          850890   \n",
              "9  melaka      701711   \n",
              "10 kelantan   1237273   \n",
              "11 terengganu  841837   \n",
              "12 pahang     1235357   \n",
              "13 johor      2839652   \n",
              "14 sabah      2921000   \n",
              "15 labuan       72272   \n",
              "16 sarawak    2072490   "
            ],
            "text/latex": "A data.frame: 16 × 2\n\\begin{tabular}{ll}\n state & population\\\\\n <chr> & <int>\\\\\n\\hline\n\t perlis     &  187756\\\\\n\t kedah      & 1595396\\\\\n\t penang     & 1385097\\\\\n\t perak      & 1932525\\\\\n\t selangor   & 4838547\\\\\n\t kl         & 1481138\\\\\n\t putrajaya  &   56913\\\\\n\t ns         &  850890\\\\\n\t melaka     &  701711\\\\\n\t kelantan   & 1237273\\\\\n\t terengganu &  841837\\\\\n\t pahang     & 1235357\\\\\n\t johor      & 2839652\\\\\n\t sabah      & 2921000\\\\\n\t labuan     &   72272\\\\\n\t sarawak    & 2072490\\\\\n\\end{tabular}\n",
            "text/markdown": "\nA data.frame: 16 × 2\n\n| state &lt;chr&gt; | population &lt;int&gt; |\n|---|---|\n| perlis     |  187756 |\n| kedah      | 1595396 |\n| penang     | 1385097 |\n| perak      | 1932525 |\n| selangor   | 4838547 |\n| kl         | 1481138 |\n| putrajaya  |   56913 |\n| ns         |  850890 |\n| melaka     |  701711 |\n| kelantan   | 1237273 |\n| terengganu |  841837 |\n| pahang     | 1235357 |\n| johor      | 2839652 |\n| sabah      | 2921000 |\n| labuan     |   72272 |\n| sarawak    | 2072490 |\n\n",
            "text/html": [
              "<table class=\"dataframe\">\n",
              "<caption>A data.frame: 16 × 2</caption>\n",
              "<thead>\n",
              "\t<tr><th scope=col>state</th><th scope=col>population</th></tr>\n",
              "\t<tr><th scope=col>&lt;chr&gt;</th><th scope=col>&lt;int&gt;</th></tr>\n",
              "</thead>\n",
              "<tbody>\n",
              "\t<tr><td>perlis    </td><td> 187756</td></tr>\n",
              "\t<tr><td>kedah     </td><td>1595396</td></tr>\n",
              "\t<tr><td>penang    </td><td>1385097</td></tr>\n",
              "\t<tr><td>perak     </td><td>1932525</td></tr>\n",
              "\t<tr><td>selangor  </td><td>4838547</td></tr>\n",
              "\t<tr><td>kl        </td><td>1481138</td></tr>\n",
              "\t<tr><td>putrajaya </td><td>  56913</td></tr>\n",
              "\t<tr><td>ns        </td><td> 850890</td></tr>\n",
              "\t<tr><td>melaka    </td><td> 701711</td></tr>\n",
              "\t<tr><td>kelantan  </td><td>1237273</td></tr>\n",
              "\t<tr><td>terengganu</td><td> 841837</td></tr>\n",
              "\t<tr><td>pahang    </td><td>1235357</td></tr>\n",
              "\t<tr><td>johor     </td><td>2839652</td></tr>\n",
              "\t<tr><td>sabah     </td><td>2921000</td></tr>\n",
              "\t<tr><td>labuan    </td><td>  72272</td></tr>\n",
              "\t<tr><td>sarawak   </td><td>2072490</td></tr>\n",
              "</tbody>\n",
              "</table>\n"
            ]
          },
          "metadata": {
            "tags": []
          }
        }
      ]
    },
    {
      "cell_type": "code",
      "metadata": {
        "colab": {
          "base_uri": "https://localhost:8080/",
          "height": 437
        },
        "id": "92fzMMD47Ria",
        "outputId": "e0fc30ca-01d1-4881-aa26-74b84151f178"
      },
      "source": [
        "ggplot(data=malaysiapopulation.data)+geom_point(mapping = aes(x=population,y=state))"
      ],
      "execution_count": null,
      "outputs": [
        {
          "output_type": "display_data",
          "data": {
            "image/png": "[encoded data removed]",
            "text/plain": [
              "plot without title"
            ]
          },
          "metadata": {
            "tags": [],
            "image/png": {
              "width": 420,
              "height": 420
            }
          }
        }
      ]
    },
    {
      "cell_type": "markdown",
      "metadata": {
        "id": "Gm5BzMA08b1O"
      },
      "source": [
        "By looking both the graphs we can find that people in the states perlis,putrajaya,terengganu,pahang,labuan have got vaccinated more people than thier population and other states have to facinate more people."
      ]
    }
  ]
}